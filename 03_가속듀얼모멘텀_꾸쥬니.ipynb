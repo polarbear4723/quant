{
 "cells": [
  {
   "cell_type": "code",
   "execution_count": 1,
   "metadata": {},
   "outputs": [],
   "source": [
    "import pandas as pd\n",
    "from datetime import datetime\n",
    "import numpy as np\n",
    "import pandas_datareader as pdr\n",
    "\n",
    "%matplotlib inline\n",
    "import matplotlib.pyplot as plt\n",
    "import seaborn as sns"
   ]
  },
  {
   "cell_type": "code",
   "execution_count": 2,
   "metadata": {},
   "outputs": [],
   "source": [
    "# 백테스트 날짜, 초기 잔고, 리밸런싱 주기\n",
    "start = datetime(2020, 8, 8)\n",
    "end = datetime(2021, 1, 9)\n",
    "init_balance = 1000\n",
    "\n",
    "#rebalancing_months = [1,2,3,4,5,6,7,8,9,10,11,12] # 리밸런싱 주기 : 한달로 고정\n",
    "rebalancing_target = -1 # -1 월 말, 0 월 초\n",
    "rebalancing_dates = [0, 1, 2] # 월말 3영업일, 월초 2영업일\n",
    "\n",
    "fee = 0.5 # 거래비용 및 슬리피지. %(퍼센트) 단위\n",
    "\n",
    "# 모멘텀 측정 기간\n",
    "mtum_period = [1, 3, 6] #월단위\n",
    "mtum_ratio = [1, 1, 1]\n",
    "\n",
    "\n",
    "portfolio = []\n",
    "# 포트폴리오 1\n",
    "portfolio.append({\n",
    "        'asset': ['143850.KS', '232080.KS'],\n",
    "        'ratio': [1, 1],\n",
    "        'name': '개인연금'\n",
    "})\n",
    "# 포트폴리오 2\n",
    "portfolio.append({\n",
    "#         'asset': ['SPY', 'SCZ'],\n",
    "        'asset': ['360750.KS', '232080.KS'],\n",
    "        'ratio': [1, 1],\n",
    "        'name': '원본'\n",
    "})\n",
    "# Exit 자산\n",
    "portfolio.append({\n",
    "        'asset': ['304660.KS'],\n",
    "#         'asset': ['TLT'],\n",
    "        'ratio': [1],\n",
    "        'name': 'Exit Asset'\n",
    "})\n",
    "# 벤치마크: S&P500\n",
    "portfolio.append({\n",
    "        'asset': ['^GSPC'], # S&P500\n",
    "#         'asset': ['143850.KS'], # S&P500\n",
    "        'ratio': [1],\n",
    "        'name': 'Benchmark'\n",
    "})"
   ]
  },
  {
   "cell_type": "code",
   "execution_count": 3,
   "metadata": {},
   "outputs": [
    {
     "data": {
      "text/plain": [
       "[{'asset': ['143850.KS', '232080.KS'], 'ratio': [1, 1], 'name': '개인연금'},\n",
       " {'asset': ['360750.KS', '232080.KS'], 'ratio': [1, 1], 'name': '원본'},\n",
       " {'asset': ['304660.KS'], 'ratio': [1], 'name': 'Exit Asset'},\n",
       " {'asset': ['^GSPC'], 'ratio': [1], 'name': 'Benchmark'}]"
      ]
     },
     "execution_count": 3,
     "metadata": {},
     "output_type": "execute_result"
    }
   ],
   "source": [
    "portfolio"
   ]
  },
  {
   "cell_type": "markdown",
   "metadata": {},
   "source": [
    "# 주가 데이터 가져오기"
   ]
  },
  {
   "cell_type": "code",
   "execution_count": 4,
   "metadata": {},
   "outputs": [],
   "source": [
    "def get_price(port): # 개별 포트폴리오의 가격 리스트에대한 df 생성\n",
    "\n",
    "    # 각 종목 별 수정 주가 데이터를 크롤링 해 리스트로 시계열 데이터 시리즈를 값으로 갖는 리스트 생성\n",
    "    price_list = []\n",
    "    columns_name = []\n",
    "    for i in range(len(port)):\n",
    "        for asset in port[i]['asset']:\n",
    "            # 포트 별 가격 데이터 가져오기\n",
    "            price_list.append(pdr.get_data_yahoo(asset, start, end)['Adj Close'])\n",
    "#             price_list.append(pdr.DataReader(asset, 'google', start, end)['Adj Close'])\n",
    "            # 컬럼 명 생성\n",
    "            if i < len(port)-2:\n",
    "                columns_name.append(f'Port{i+1}_'+f'{asset}')\n",
    "            else:\n",
    "                columns_name.append(asset)\n",
    "\n",
    "    df_list = pd.concat(price_list, axis=1) #주가 데이터 리스트를 데이터프레임으로 변환\n",
    "    df_list.columns = columns_name # 포트를 구성하는 종목 명을 컬럼 명으로\n",
    "    first_day = df_list.dropna().index.min() # 전 종목 결측치 없는 최초 일자를 거래시작일로 지정\n",
    "    df_price = df_list[first_day:].fillna(method='pad') # 최초일 이후의 결측치는 전일종가로 채움\n",
    "    end_day = df_price.index.max()\n",
    "\n",
    "    return df_price"
   ]
  },
  {
   "cell_type": "code",
   "execution_count": 5,
   "metadata": {},
   "outputs": [
    {
     "ename": "NotImplementedError",
     "evalue": "data_source='google' is not implemented",
     "output_type": "error",
     "traceback": [
      "\u001b[1;31m---------------------------------------------------------------------------\u001b[0m",
      "\u001b[1;31mNotImplementedError\u001b[0m                       Traceback (most recent call last)",
      "\u001b[1;32m<ipython-input-5-8c131f2ef5a2>\u001b[0m in \u001b[0;36m<module>\u001b[1;34m\u001b[0m\n\u001b[1;32m----> 1\u001b[1;33m \u001b[0mdf_price\u001b[0m \u001b[1;33m=\u001b[0m \u001b[0mget_price\u001b[0m\u001b[1;33m(\u001b[0m\u001b[0mportfolio\u001b[0m\u001b[1;33m)\u001b[0m\u001b[1;33m\u001b[0m\u001b[1;33m\u001b[0m\u001b[0m\n\u001b[0m\u001b[0;32m      2\u001b[0m \u001b[0mdf_price\u001b[0m\u001b[1;33m\u001b[0m\u001b[1;33m\u001b[0m\u001b[0m\n",
      "\u001b[1;32m<ipython-input-4-d703b643791d>\u001b[0m in \u001b[0;36mget_price\u001b[1;34m(port)\u001b[0m\n\u001b[0;32m      8\u001b[0m             \u001b[1;31m# 포트 별 가격 데이터 가져오기\u001b[0m\u001b[1;33m\u001b[0m\u001b[1;33m\u001b[0m\u001b[1;33m\u001b[0m\u001b[0m\n\u001b[0;32m      9\u001b[0m \u001b[1;31m#             price_list.append(pdr.get_data_yahoo(asset, start, end)['Adj Close'])\u001b[0m\u001b[1;33m\u001b[0m\u001b[1;33m\u001b[0m\u001b[1;33m\u001b[0m\u001b[0m\n\u001b[1;32m---> 10\u001b[1;33m             \u001b[0mprice_list\u001b[0m\u001b[1;33m.\u001b[0m\u001b[0mappend\u001b[0m\u001b[1;33m(\u001b[0m\u001b[0mpdr\u001b[0m\u001b[1;33m.\u001b[0m\u001b[0mDataReader\u001b[0m\u001b[1;33m(\u001b[0m\u001b[0masset\u001b[0m\u001b[1;33m,\u001b[0m \u001b[1;34m'google'\u001b[0m\u001b[1;33m,\u001b[0m \u001b[0mstart\u001b[0m\u001b[1;33m,\u001b[0m \u001b[0mend\u001b[0m\u001b[1;33m)\u001b[0m\u001b[1;33m[\u001b[0m\u001b[1;34m'Adj Close'\u001b[0m\u001b[1;33m]\u001b[0m\u001b[1;33m)\u001b[0m\u001b[1;33m\u001b[0m\u001b[1;33m\u001b[0m\u001b[0m\n\u001b[0m\u001b[0;32m     11\u001b[0m             \u001b[1;31m# 컬럼 명 생성\u001b[0m\u001b[1;33m\u001b[0m\u001b[1;33m\u001b[0m\u001b[1;33m\u001b[0m\u001b[0m\n\u001b[0;32m     12\u001b[0m             \u001b[1;32mif\u001b[0m \u001b[0mi\u001b[0m \u001b[1;33m<\u001b[0m \u001b[0mlen\u001b[0m\u001b[1;33m(\u001b[0m\u001b[0mport\u001b[0m\u001b[1;33m)\u001b[0m\u001b[1;33m-\u001b[0m\u001b[1;36m2\u001b[0m\u001b[1;33m:\u001b[0m\u001b[1;33m\u001b[0m\u001b[1;33m\u001b[0m\u001b[0m\n",
      "\u001b[1;32m~\\anaconda3\\lib\\site-packages\\pandas\\util\\_decorators.py\u001b[0m in \u001b[0;36mwrapper\u001b[1;34m(*args, **kwargs)\u001b[0m\n\u001b[0;32m    212\u001b[0m                 \u001b[1;32melse\u001b[0m\u001b[1;33m:\u001b[0m\u001b[1;33m\u001b[0m\u001b[1;33m\u001b[0m\u001b[0m\n\u001b[0;32m    213\u001b[0m                     \u001b[0mkwargs\u001b[0m\u001b[1;33m[\u001b[0m\u001b[0mnew_arg_name\u001b[0m\u001b[1;33m]\u001b[0m \u001b[1;33m=\u001b[0m \u001b[0mnew_arg_value\u001b[0m\u001b[1;33m\u001b[0m\u001b[1;33m\u001b[0m\u001b[0m\n\u001b[1;32m--> 214\u001b[1;33m             \u001b[1;32mreturn\u001b[0m \u001b[0mfunc\u001b[0m\u001b[1;33m(\u001b[0m\u001b[1;33m*\u001b[0m\u001b[0margs\u001b[0m\u001b[1;33m,\u001b[0m \u001b[1;33m**\u001b[0m\u001b[0mkwargs\u001b[0m\u001b[1;33m)\u001b[0m\u001b[1;33m\u001b[0m\u001b[1;33m\u001b[0m\u001b[0m\n\u001b[0m\u001b[0;32m    215\u001b[0m \u001b[1;33m\u001b[0m\u001b[0m\n\u001b[0;32m    216\u001b[0m         \u001b[1;32mreturn\u001b[0m \u001b[0mcast\u001b[0m\u001b[1;33m(\u001b[0m\u001b[0mF\u001b[0m\u001b[1;33m,\u001b[0m \u001b[0mwrapper\u001b[0m\u001b[1;33m)\u001b[0m\u001b[1;33m\u001b[0m\u001b[1;33m\u001b[0m\u001b[0m\n",
      "\u001b[1;32m~\\anaconda3\\lib\\site-packages\\pandas_datareader\\data.py\u001b[0m in \u001b[0;36mDataReader\u001b[1;34m(name, data_source, start, end, retry_count, pause, session, api_key)\u001b[0m\n\u001b[0;32m    371\u001b[0m     \u001b[1;32mif\u001b[0m \u001b[0mdata_source\u001b[0m \u001b[1;32mnot\u001b[0m \u001b[1;32min\u001b[0m \u001b[0mexpected_source\u001b[0m\u001b[1;33m:\u001b[0m\u001b[1;33m\u001b[0m\u001b[1;33m\u001b[0m\u001b[0m\n\u001b[0;32m    372\u001b[0m         \u001b[0mmsg\u001b[0m \u001b[1;33m=\u001b[0m \u001b[1;34m\"data_source=%r is not implemented\"\u001b[0m \u001b[1;33m%\u001b[0m \u001b[0mdata_source\u001b[0m\u001b[1;33m\u001b[0m\u001b[1;33m\u001b[0m\u001b[0m\n\u001b[1;32m--> 373\u001b[1;33m         \u001b[1;32mraise\u001b[0m \u001b[0mNotImplementedError\u001b[0m\u001b[1;33m(\u001b[0m\u001b[0mmsg\u001b[0m\u001b[1;33m)\u001b[0m\u001b[1;33m\u001b[0m\u001b[1;33m\u001b[0m\u001b[0m\n\u001b[0m\u001b[0;32m    374\u001b[0m \u001b[1;33m\u001b[0m\u001b[0m\n\u001b[0;32m    375\u001b[0m     \u001b[1;32mif\u001b[0m \u001b[0mdata_source\u001b[0m \u001b[1;33m==\u001b[0m \u001b[1;34m\"yahoo\"\u001b[0m\u001b[1;33m:\u001b[0m\u001b[1;33m\u001b[0m\u001b[1;33m\u001b[0m\u001b[0m\n",
      "\u001b[1;31mNotImplementedError\u001b[0m: data_source='google' is not implemented"
     ]
    }
   ],
   "source": [
    "df_price = get_price(portfolio)\n",
    "df_price"
   ]
  },
  {
   "cell_type": "markdown",
   "metadata": {},
   "source": [
    "# 리밸런싱 날짜 계산"
   ]
  },
  {
   "cell_type": "code",
   "execution_count": null,
   "metadata": {},
   "outputs": [],
   "source": [
    "# 리밸런싱 날짜 계산하기\n",
    "df_price['Date'] = df_price.index\n",
    "#df_price['month'] = df_price.index.month\n",
    "df_price['year_month'] = df_price.index.strftime('%Y-%m')\n",
    "\n",
    "#df_target = df_price.loc[df_price[\"month\"].isin(rebalancing_months)].groupby('year_month').apply(lambda x: x.iloc[rebalancing_target])\n",
    "df_target = df_price.groupby('year_month').apply(lambda x: x.iloc[rebalancing_target])\n",
    "#rebal_list = list(df_target['Date'])\n",
    "\n",
    "df_price = df_price.drop(['year_month', 'Date'], axis=1)"
   ]
  },
  {
   "cell_type": "markdown",
   "metadata": {},
   "source": [
    "# 모멘텀 스코어 계산"
   ]
  },
  {
   "cell_type": "code",
   "execution_count": null,
   "metadata": {},
   "outputs": [],
   "source": [
    "asset_list = df_price.columns[:-2]\n",
    "asset_list"
   ]
  },
  {
   "cell_type": "code",
   "execution_count": null,
   "metadata": {},
   "outputs": [],
   "source": [
    "# 시기별 모멘텀 df 만들기\n",
    "for asset in asset_list:\n",
    "    df_price[f'{asset}_score'] = 0\n",
    "    for i, rebal_day in zip(range(len(df_target[\"Date\"])), df_target[\"Date\"]):\n",
    "        mtum_score = 0\n",
    "        for mtum_p, mtum_r  in zip(mtum_period, mtum_period):\n",
    "            if i <= mtum_p-1:\n",
    "                tmp_mtum = (df_price[asset].loc[rebal_day]/df_price[asset].loc[df_target[\"Date\"].iloc[0]] - 1) * (mtum_r/sum(mtum_ratio))\n",
    "            else:\n",
    "                mtum_day = df_target[\"Date\"].iloc[i-mtum_p]\n",
    "                tmp_mtum = (df_price[asset].loc[rebal_day]/df_price[asset].loc[mtum_day] - 1) * (mtum_r/sum(mtum_ratio))\n",
    "            mtum_score += tmp_mtum\n",
    "        df_price[f'{asset}_score'].loc[rebal_day] = mtum_score"
   ]
  },
  {
   "cell_type": "code",
   "execution_count": null,
   "metadata": {},
   "outputs": [],
   "source": [
    "df_price.loc[df_target[\"Date\"]]"
   ]
  },
  {
   "cell_type": "markdown",
   "metadata": {},
   "source": [
    "# 모멘텀 스코어 비교"
   ]
  },
  {
   "cell_type": "code",
   "execution_count": null,
   "metadata": {},
   "outputs": [],
   "source": [
    "for j in range(len(portfolio)-2):\n",
    "    asset1 = portfolio[j]['asset'][0]\n",
    "    asset2 = portfolio[j]['asset'][1]\n",
    "    for i, rebal_day in zip(range(len(df_target[\"Date\"])), df_target[\"Date\"]):\n",
    "        if (df_price.loc[ rebal_day, f'Port{j+1}_{asset1}_score' ] > 0) and (df_price.loc[ rebal_day, f'Port{j+1}_{asset1}_score' ] > df_price.loc[ rebal_day, f'Port{j+1}_{asset2}_score' ]):\n",
    "            hold_asset = f'Port{j+1}_{asset1}'\n",
    "        elif (df_price.loc[ rebal_day, f'Port{j+1}_{asset2}_score' ] > 0) and (df_price.loc[ rebal_day, f'Port{j+1}_{asset2}_score' ] > df_price.loc[ rebal_day, f'Port{j+1}_{asset1}_score' ]):\n",
    "            hold_asset = f'Port{j+1}_{asset2}'\n",
    "        else:\n",
    "            hold_asset = portfolio[-2]['asset'][0]\n",
    "        df_price.loc[ rebal_day, f'Port{j+1}_hold'] = hold_asset"
   ]
  },
  {
   "cell_type": "markdown",
   "metadata": {},
   "source": [
    "# 포트폴리오 별 잔액 계산"
   ]
  },
  {
   "cell_type": "code",
   "execution_count": null,
   "metadata": {},
   "outputs": [],
   "source": [
    "for j in range(len(portfolio)-2):\n",
    "    df_price.loc[df_target[\"Date\"][0], f'Port{j+1}_bal'] = init_balance\n",
    "    for i in range(len(df_target[\"Date\"])-1):\n",
    "        hold = df_price.loc[df_target[\"Date\"][i], f'Port{j+1}_hold']\n",
    "        df_price.loc[df_target[\"Date\"][i]:df_target[\"Date\"][i+1], f'Port{j+1}_bal'] = df_price.loc[df_target[\"Date\"][i], f'Port{j+1}_bal'] * df_price.loc[df_target[\"Date\"][i]:df_target[\"Date\"][i+1], hold] / df_price.loc[df_target[\"Date\"][i], hold]"
   ]
  },
  {
   "cell_type": "code",
   "execution_count": null,
   "metadata": {},
   "outputs": [],
   "source": [
    "Benchmark = portfolio[-1]['asset'][0]\n",
    "df_price.loc[df_target[\"Date\"][0]:, f'{Benchmark}_bal'] = init_balance * df_price.loc[df_target[\"Date\"][0]:, Benchmark] / df_price.loc[df_target[\"Date\"][0], Benchmark]"
   ]
  },
  {
   "cell_type": "code",
   "execution_count": null,
   "metadata": {},
   "outputs": [],
   "source": [
    "port_bal = df_price.loc[df_target[\"Date\"][0]:,df_price.columns[-(len(portfolio)-1):]]\n",
    "# port_bal.columns = port_bal.columns.str.replace('_bal','')"
   ]
  },
  {
   "cell_type": "code",
   "execution_count": null,
   "metadata": {},
   "outputs": [],
   "source": [
    "port_bal"
   ]
  },
  {
   "cell_type": "code",
   "execution_count": null,
   "metadata": {},
   "outputs": [],
   "source": [
    "# port_list = [portfolio[i]['name'] for i in range(len(portfolio)-2)]\n",
    "# port_list.append(Benchmark)\n",
    "# port_list"
   ]
  },
  {
   "cell_type": "code",
   "execution_count": null,
   "metadata": {},
   "outputs": [],
   "source": [
    "def performance_indicator(etf): # etf는 df[\"etf명\"]\n",
    "    date = etf.index.tolist()\n",
    "    balance = etf.values.tolist()\n",
    "    ###########최종 평가액, 첫거래일, 마지막거래일, 테스트기간###########\n",
    "    final_balance = balance[-1]\n",
    "    first_day, last_day = date[0], date[-1]\n",
    "    time_period = ((last_day - first_day).days)/365\n",
    "    \n",
    "    CAGR = ((balance[-1]/balance[0]) ** (1 / float(time_period)) - 1) * 100\n",
    "    cum_return = ((balance[-1]/balance[0] - 1) * 100)\n",
    "    ###########신고가, MDD, 일 변동률###############################\n",
    "    historic_high = 0\n",
    "    historic_high_percent = 0\n",
    "    MDD = 0\n",
    "    drawdown_list = [0]\n",
    "    daily_change_list = [0]\n",
    "    \n",
    "    for i in range(1, len(date)):     \n",
    "        if historic_high < balance[i]:\n",
    "            historic_high = balance[i] \n",
    "\n",
    "        drawdown_list.append((balance[i]/historic_high - 1) * 100)\n",
    "        \n",
    "        if MDD > drawdown_list[i]:\n",
    "            MDD = drawdown_list[i]\n",
    "        \n",
    "        daily_change_list.append((balance[i]/balance[i-1] - 1)*100)\n",
    "        \n",
    "    historic_high_percent = (historic_high/balance[0] - 1)*100\n",
    "    ###########STDEV, 샤프지수신고가################################\n",
    "    # 일단위 변동성 연율화 하기 위해 252일 영업일 기준으로 루트 252 곱 함\n",
    "    STDEV = np.std(daily_change_list) * np.sqrt(252) \n",
    "    sharpe_ratio = np.mean(daily_change_list) / np.std(daily_change_list) * np.sqrt(252) \n",
    "    \n",
    "    my_str = []\n",
    "    result_list = [init_balance, final_balance, CAGR, MDD, STDEV, sharpe_ratio]\n",
    "    for my_number in result_list:\n",
    "        if my_number in [CAGR, MDD]:\n",
    "            my_str.append(str(round(my_number, 2))+' %')\n",
    "        elif my_number in [final_balance]:\n",
    "            my_str.append(str(round(my_number)))\n",
    "        else : \n",
    "            my_str.append(str(round(my_number, 2)))\n",
    "    \n",
    "    first, last = first_day.strftime('%Y-%m-%d'), last_day.strftime('%Y-%m-%d')\n",
    "    print(f'테스트기간 : {first} ~ {last} / {round(time_period,1)} 년')\n",
    "    \n",
    "    return my_str, drawdown_list"
   ]
  },
  {
   "cell_type": "code",
   "execution_count": null,
   "metadata": {},
   "outputs": [],
   "source": [
    "tmp = {\n",
    "        'index': [],\n",
    "        'data': [],\n",
    "        'drawdown': []\n",
    "    }\n",
    "########### 포트폴리오 리턴 결과 표 ###############################\n",
    "# port_list = [portfolio[i]['name'] for i in range(len(portfolio))]\n",
    "port_list = port_bal.columns\n",
    "for port in port_list:\n",
    "    tmp['index'].append(port)\n",
    "    tmp['data'].append(performance_indicator(port_bal[port])[0])\n",
    "    tmp['drawdown'].append(performance_indicator(port_bal[port])[1])\n",
    "\n",
    "portfolio_return = pd.DataFrame(data=tmp['data'], index=tmp['index'], \\\n",
    "                   columns=['Init Balance', 'Final Balance', 'CAGR', 'MDD', 'STDEV', 'Sharpe Ratio'])\n",
    "\n",
    "# ########### drawdown 리스트 -> 데이터프레임 변환 ###################\n",
    "tmp_drawdown = [pd.DataFrame(data=tmp['drawdown'][i], index=port_bal.index, columns=[port_list[i]]) for i in range(len(tmp['drawdown']))]\n",
    "df_drawdown = pd.concat(tmp_drawdown, axis=1)\n",
    "\n",
    "########### Annual Returns / Monthly Returns ###################\n",
    "port_bal['year'] = port_bal.index.strftime('%Y')\n",
    "port_bal['year_month'] = port_bal.index.strftime('%Y-%m')\n",
    "annual = port_bal.groupby('year').apply(lambda x: x.iloc[[-1]]).reset_index('Date').drop(['year_month', 'year', 'Date'], axis=1)\n",
    "monthly = port_bal.groupby('year_month').apply(lambda x: x.iloc[[-1]]).reset_index('Date').drop(['year_month', 'year', 'Date'], axis=1)\n",
    "\n",
    "for port in port_list:\n",
    "    for i in (range(len(annual)-1, 0, -1)):\n",
    "        annual[port][i] = round((annual[port][i] / annual[port][i-1] - 1), 4) * 100\n",
    "    for i in (range(len(monthly)-1, 0, -1)):\n",
    "        monthly[port][i] = round((monthly[port][i] / monthly[port][i-1] - 1), 4) * 100\n",
    "annual.iloc[0] = (annual.iloc[0] / init_balance - 1) * 100\n",
    "monthly.iloc[0] = (monthly.iloc[0] / init_balance - 1) * 100"
   ]
  },
  {
   "cell_type": "code",
   "execution_count": null,
   "metadata": {},
   "outputs": [],
   "source": [
    "portfolio_return"
   ]
  },
  {
   "cell_type": "code",
   "execution_count": null,
   "metadata": {},
   "outputs": [],
   "source": [
    "# 그래픽 크기 설정\n",
    "plt.rcParams[\"font.size\"] = 16\n",
    "plt.rcParams[\"figure.figsize\"] = (20, 10)\n",
    "\n",
    "port_bal.plot()\n",
    "df_drawdown.plot()\n",
    "annual.plot.bar()\n",
    "monthly.plot.bar()\n",
    "plt.grid()\n",
    "plt.legend()\n",
    "plt.show()"
   ]
  },
  {
   "cell_type": "code",
   "execution_count": null,
   "metadata": {},
   "outputs": [],
   "source": []
  }
 ],
 "metadata": {
  "kernelspec": {
   "display_name": "Python 3",
   "language": "python",
   "name": "python3"
  }
 },
 "nbformat": 4,
 "nbformat_minor": 4
}
