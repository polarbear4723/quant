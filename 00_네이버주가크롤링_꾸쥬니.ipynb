{
 "cells": [
  {
   "cell_type": "markdown",
   "metadata": {},
   "source": [
    "##### 출처 : https://devkyu.tistory.com/907"
   ]
  },
  {
   "cell_type": "code",
   "execution_count": 1,
   "metadata": {},
   "outputs": [],
   "source": [
    "import requests\n",
    "#import time\n",
    "import pandas as pd\n",
    " \n",
    "from bs4 import BeautifulSoup as bs\n",
    "from datetime import datetime"
   ]
  },
  {
   "cell_type": "code",
   "execution_count": 2,
   "metadata": {},
   "outputs": [],
   "source": [
    "def exportData(code, startdate, enddate):\n",
    "    \n",
    "    isEnd = False\n",
    "    res = {\n",
    "        'index': [],\n",
    "        'data': []\n",
    "    }\n",
    "\n",
    "    print(\"Start\")\n",
    "    \n",
    "    page = 1\n",
    "    while isEnd != True:\n",
    "        url = f'https://finance.naver.com/item/sise_day.nhn?code={code}&page={page}'\n",
    "        response = requests.get(url)\n",
    "        html = bs(response.text, 'html.parser')\n",
    "        \n",
    "        # parse\n",
    "        trList = html.find_all(\"tr\", {\"onmouseover\":\"mouseOver(this)\"})\n",
    "        for tr in trList:\n",
    "            tdList = tr.find_all('td')\n",
    "            \n",
    "            date = tdList[0].text.strip()  # 날짜\n",
    "            close_price = int(tdList[1].text.strip().replace(',', ''))  # 종가\n",
    "            diff_price = int(tdList[2].text.strip().replace(',', ''))  # 전일비\n",
    "            open_price = int(tdList[3].text.strip().replace(',', ''))  # 시가\n",
    "            high_price = int(tdList[4].text.strip().replace(',', ''))  # 고가\n",
    "            low_price = int(tdList[5].text.strip().replace(',', ''))  # 저가\n",
    "            volume = int(tdList[6].text.strip().replace(',', ''))  # 거래량\n",
    "            \n",
    "            target_date = datetime.fromisoformat(date.replace('.', '-'))\n",
    "            if target_date < start:\n",
    "                isEnd = True\n",
    "                break\n",
    "            elif target_date < end and target_date > start:\n",
    "                #print(target_date)\n",
    "                # insert index\n",
    "                res['index'].insert(0, target_date)\n",
    "                \n",
    "                # insert data with [\"Open\",\"High\",\"Low\",\"Close\",\"Volume\"]\n",
    "                res['data'].insert(0, [open_price, high_price, low_price, close_price,\\\n",
    "                                       volume])\n",
    "                        \n",
    "        page += 1\n",
    "        #time.sleep(2)\n",
    "        \n",
    "    df = pd.DataFrame(data=res['data'], index=res['index'],\\\n",
    "                      columns=[\"Open\",\"High\",\"Low\",\"Close\",\"Volume\"])\n",
    "    #df.to_json(code+'.json', orient='split', date_format='index')\n",
    "    \n",
    "    print(\"Start - Done\")\n",
    "    \n",
    "    return df"
   ]
  },
  {
   "cell_type": "code",
   "execution_count": 3,
   "metadata": {},
   "outputs": [
    {
     "name": "stdout",
     "output_type": "stream",
     "text": [
      "Start\n",
      "Start - Done\n"
     ]
    }
   ],
   "source": [
    "code = \"251350\"\n",
    "start = datetime(2020, 1, 1)\n",
    "end = datetime(2020, 10, 1)\n",
    " \n",
    "result = exportData(code, start, end)"
   ]
  },
  {
   "cell_type": "code",
   "execution_count": 4,
   "metadata": {},
   "outputs": [],
   "source": [
    "import FinanceDataReader as fdr\n",
    "\n",
    "df = fdr.DataReader('251350')\n",
    "df = df.add_suffix('_2')"
   ]
  },
  {
   "cell_type": "code",
   "execution_count": 5,
   "metadata": {
    "scrolled": true
   },
   "outputs": [
    {
     "data": {
      "text/html": [
       "<div>\n",
       "<style scoped>\n",
       "    .dataframe tbody tr th:only-of-type {\n",
       "        vertical-align: middle;\n",
       "    }\n",
       "\n",
       "    .dataframe tbody tr th {\n",
       "        vertical-align: top;\n",
       "    }\n",
       "\n",
       "    .dataframe thead th {\n",
       "        text-align: right;\n",
       "    }\n",
       "</style>\n",
       "<table border=\"1\" class=\"dataframe\">\n",
       "  <thead>\n",
       "    <tr style=\"text-align: right;\">\n",
       "      <th></th>\n",
       "      <th>Close</th>\n",
       "      <th>Close_2</th>\n",
       "    </tr>\n",
       "  </thead>\n",
       "  <tbody>\n",
       "  </tbody>\n",
       "</table>\n",
       "</div>"
      ],
      "text/plain": [
       "Empty DataFrame\n",
       "Columns: [Close, Close_2]\n",
       "Index: []"
      ]
     },
     "execution_count": 5,
     "metadata": {},
     "output_type": "execute_result"
    }
   ],
   "source": [
    "result_con = pd.concat([result, df], axis=1)\n",
    "result_Close = result_con.loc[result_con.index >= start, ['Close', 'Close_2']]\n",
    "result_Close.loc[result_Close['Close'] != result_Close['Close_2']]"
   ]
  },
  {
   "cell_type": "code",
   "execution_count": 6,
   "metadata": {},
   "outputs": [
    {
     "data": {
      "text/html": [
       "<div>\n",
       "<style scoped>\n",
       "    .dataframe tbody tr th:only-of-type {\n",
       "        vertical-align: middle;\n",
       "    }\n",
       "\n",
       "    .dataframe tbody tr th {\n",
       "        vertical-align: top;\n",
       "    }\n",
       "\n",
       "    .dataframe thead th {\n",
       "        text-align: right;\n",
       "    }\n",
       "</style>\n",
       "<table border=\"1\" class=\"dataframe\">\n",
       "  <thead>\n",
       "    <tr style=\"text-align: right;\">\n",
       "      <th></th>\n",
       "      <th>Close</th>\n",
       "      <th>Close_2</th>\n",
       "    </tr>\n",
       "  </thead>\n",
       "  <tbody>\n",
       "    <tr>\n",
       "      <th>2020-01-02</th>\n",
       "      <td>15140.0</td>\n",
       "      <td>15140</td>\n",
       "    </tr>\n",
       "    <tr>\n",
       "      <th>2020-01-03</th>\n",
       "      <td>15175.0</td>\n",
       "      <td>15175</td>\n",
       "    </tr>\n",
       "    <tr>\n",
       "      <th>2020-01-06</th>\n",
       "      <td>15205.0</td>\n",
       "      <td>15205</td>\n",
       "    </tr>\n",
       "    <tr>\n",
       "      <th>2020-01-07</th>\n",
       "      <td>15265.0</td>\n",
       "      <td>15265</td>\n",
       "    </tr>\n",
       "    <tr>\n",
       "      <th>2020-01-08</th>\n",
       "      <td>15245.0</td>\n",
       "      <td>15245</td>\n",
       "    </tr>\n",
       "    <tr>\n",
       "      <th>...</th>\n",
       "      <td>...</td>\n",
       "      <td>...</td>\n",
       "    </tr>\n",
       "    <tr>\n",
       "      <th>2020-09-23</th>\n",
       "      <td>15000.0</td>\n",
       "      <td>15000</td>\n",
       "    </tr>\n",
       "    <tr>\n",
       "      <th>2020-09-24</th>\n",
       "      <td>14725.0</td>\n",
       "      <td>14725</td>\n",
       "    </tr>\n",
       "    <tr>\n",
       "      <th>2020-09-25</th>\n",
       "      <td>14875.0</td>\n",
       "      <td>14875</td>\n",
       "    </tr>\n",
       "    <tr>\n",
       "      <th>2020-09-28</th>\n",
       "      <td>15200.0</td>\n",
       "      <td>15200</td>\n",
       "    </tr>\n",
       "    <tr>\n",
       "      <th>2020-09-29</th>\n",
       "      <td>15290.0</td>\n",
       "      <td>15290</td>\n",
       "    </tr>\n",
       "  </tbody>\n",
       "</table>\n",
       "<p>187 rows × 2 columns</p>\n",
       "</div>"
      ],
      "text/plain": [
       "              Close  Close_2\n",
       "2020-01-02  15140.0    15140\n",
       "2020-01-03  15175.0    15175\n",
       "2020-01-06  15205.0    15205\n",
       "2020-01-07  15265.0    15265\n",
       "2020-01-08  15245.0    15245\n",
       "...             ...      ...\n",
       "2020-09-23  15000.0    15000\n",
       "2020-09-24  14725.0    14725\n",
       "2020-09-25  14875.0    14875\n",
       "2020-09-28  15200.0    15200\n",
       "2020-09-29  15290.0    15290\n",
       "\n",
       "[187 rows x 2 columns]"
      ]
     },
     "execution_count": 6,
     "metadata": {},
     "output_type": "execute_result"
    }
   ],
   "source": [
    "result_Close"
   ]
  },
  {
   "cell_type": "code",
   "execution_count": null,
   "metadata": {},
   "outputs": [],
   "source": []
  }
 ],
 "metadata": {
  "kernelspec": {
   "display_name": "Python 3",
   "language": "python",
   "name": "python3"
  },
  "language_info": {
   "codemirror_mode": {
    "name": "ipython",
    "version": 3
   },
   "file_extension": ".py",
   "mimetype": "text/x-python",
   "name": "python",
   "nbconvert_exporter": "python",
   "pygments_lexer": "ipython3",
   "version": "3.8.3"
  }
 },
 "nbformat": 4,
 "nbformat_minor": 4
}
